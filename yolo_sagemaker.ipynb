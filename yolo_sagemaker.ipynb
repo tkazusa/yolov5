{
 "cells": [
  {
   "cell_type": "markdown",
   "id": "ed598fa3",
   "metadata": {},
   "source": [
    "# Amazon SageMaker を活用するための準備"
   ]
  },
  {
   "cell_type": "code",
   "execution_count": null,
   "id": "dd98e56e",
   "metadata": {},
   "outputs": [],
   "source": [
    "import boto3\n",
    "from torchvision import datasets, transforms\n",
    "from torch.utils.data import DataLoader\n",
    "import torch\n",
    "import os\n",
    "\n",
    "import sagemaker\n",
    "from sagemaker.tuner import IntegerParameter, CategoricalParameter, ContinuousParameter, HyperparameterTuner\n",
    "\n",
    "sagemaker_session = sagemaker.Session()\n",
    "\n",
    "bucket = sagemaker_session.default_bucket()\n",
    "prefix = 'data'\n",
    "\n",
    "role = sagemaker.get_execution_role()\n",
    "\n",
    "session = boto3.session.Session()\n",
    "region = session.region_name\n",
    "print(f\"AWS region:{region}\")\n",
    "\n",
    "image = \"yolov5-sagemaker-cu110\"  # Example: mask-rcnn-smdataparallel-sagemaker\n",
    "tag = \"pt1.8\"  # Example: pt1.8"
   ]
  },
  {
   "cell_type": "markdown",
   "id": "8bb2344f",
   "metadata": {},
   "source": [
    "# 学習データの準備"
   ]
  },
  {
   "cell_type": "code",
   "execution_count": null,
   "id": "8057e23d",
   "metadata": {},
   "outputs": [],
   "source": [
    "import yaml\n",
    "from pathlib import Path\n",
    "import os\n",
    "\n",
    "def check_dataset(dict):\n",
    "    \"\"\" check what dataset is used for training from data_dict and download it. This function is from util/general.py\n",
    "    \"\"\"\n",
    "    # Download dataset if not found locally\n",
    "    val, s = dict.get('val'), dict.get('download')\n",
    "    if val and len(val):\n",
    "        val = [Path(x).resolve() for x in (val if isinstance(val, list) else [val])]  # val path\n",
    "        if not all(x.exists() for x in val):\n",
    "            print('\\nWARNING: Dataset not found, nonexistent paths: %s' % [str(x) for x in val if not x.exists()])\n",
    "            if s and len(s):  # download script\n",
    "                if s.startswith('http') and s.endswith('.zip'):  # URL\n",
    "                    f = Path(s).name  # filename\n",
    "                    print(f'Downloading {s} ...')\n",
    "                    torch.hub.download_url_to_file(s, f)\n",
    "                    r = os.system(f'unzip -q {f} -d ../ && rm {f}')  # unzip\n",
    "                elif s.startswith('bash '):  # bash script\n",
    "                    print(f'Running {s} ...')\n",
    "                    r = os.system(s)\n",
    "                else:  # python script\n",
    "                    r = exec(s)  # return None\n",
    "                print('Dataset autodownload %s\\n' % ('success' if r in (0, None) else 'failure'))  # print result\n",
    "            else:\n",
    "                raise Exception('Dataset not found.')"
   ]
  },
  {
   "cell_type": "code",
   "execution_count": null,
   "id": "cc19e33d",
   "metadata": {},
   "outputs": [],
   "source": [
    "with open(\"data/coco.yaml\") as f:\n",
    "    data_dict = yaml.safe_load(f)  # data dict"
   ]
  },
  {
   "cell_type": "code",
   "execution_count": null,
   "id": "2d3f44aa",
   "metadata": {},
   "outputs": [],
   "source": [
    "check_dataset(data_dict)"
   ]
  },
  {
   "cell_type": "code",
   "execution_count": null,
   "id": "24348b65",
   "metadata": {},
   "outputs": [],
   "source": [
    "import sagemaker\n",
    "from sagemaker import get_execution_role\n",
    "\n",
    "# SageMaker を活用するための権限が付与された Role を準備します。\n",
    "role = get_execution_role()\n",
    "\n",
    "sagemaker_session = sagemaker.Session()\n",
    "input_coco = sagemaker_session.upload_data(path='../coco', key_prefix='coco')"
   ]
  },
  {
   "cell_type": "markdown",
   "id": "0cf01499",
   "metadata": {},
   "source": [
    "# 学習用 Docker イメージの準備"
   ]
  },
  {
   "cell_type": "code",
   "execution_count": null,
   "id": "31bf8a37",
   "metadata": {},
   "outputs": [],
   "source": [
    "!pygmentize ./Dockerfile"
   ]
  },
  {
   "cell_type": "markdown",
   "id": "353cde6f",
   "metadata": {},
   "source": [
    "### Docker イメージをビルドして ECR へ push"
   ]
  },
  {
   "cell_type": "code",
   "execution_count": null,
   "id": "93deed75",
   "metadata": {},
   "outputs": [],
   "source": [
    "%%time\n",
    "! chmod +x build_and_push.sh; bash build_and_push.sh {region} {image} {tag}"
   ]
  },
  {
   "cell_type": "markdown",
   "id": "9699c436",
   "metadata": {},
   "source": [
    "# 学習の実行"
   ]
  },
  {
   "cell_type": "code",
   "execution_count": null,
   "id": "b7f730e3",
   "metadata": {},
   "outputs": [],
   "source": [
    "import os\n",
    "from sagemaker.pytorch import PyTorch\n",
    "from sagemaker.local import LocalSession\n",
    "\n",
    "client = boto3.client(\"sts\")\n",
    "account = client.get_caller_identity()[\"Account\"]\n",
    "\n",
    "instance_type = \"ml.p3.8xlarge\"  # Other supported instance type: ml.p3.16xlarge, ml.p4d.24xlarge\n",
    "instance_count = 1  # You can use 2, 4, 8 etc.\n",
    "docker_image = f\"{account}.dkr.ecr.{region}.amazonaws.com/{image}:{tag}\" \n",
    "job_name = \"pytorch-sm-yolo\""
   ]
  },
  {
   "cell_type": "code",
   "execution_count": null,
   "id": "c1ac1dac",
   "metadata": {},
   "outputs": [],
   "source": [
    "estimator = PyTorch(\n",
    "    entry_point=\"train.py\",\n",
    "    role=role,\n",
    "    volume_size=700,\n",
    "    source_dir=\".\",\n",
    "    image_uri=docker_image,\n",
    "    instance_count=instance_count,\n",
    "    instance_type=instance_type,\n",
    "    framework_version=\"1.8.1\",\n",
    "    sagemaker_session=sagemaker_session\n",
    ")"
   ]
  },
  {
   "cell_type": "code",
   "execution_count": null,
   "id": "5d6488e6",
   "metadata": {},
   "outputs": [],
   "source": [
    "data_channels = {\"data\": input_coco}\n",
    "\n",
    "estimator.fit(inputs=data_channels, job_name=job_name, wait=False)"
   ]
  },
  {
   "cell_type": "code",
   "execution_count": null,
   "id": "1b1b2991",
   "metadata": {},
   "outputs": [],
   "source": []
  },
  {
   "cell_type": "code",
   "execution_count": null,
   "id": "db223974",
   "metadata": {},
   "outputs": [],
   "source": []
  }
 ],
 "metadata": {
  "kernelspec": {
   "display_name": "conda_pytorch_p36",
   "language": "python",
   "name": "conda_pytorch_p36"
  },
  "language_info": {
   "codemirror_mode": {
    "name": "ipython",
    "version": 3
   },
   "file_extension": ".py",
   "mimetype": "text/x-python",
   "name": "python",
   "nbconvert_exporter": "python",
   "pygments_lexer": "ipython3",
   "version": "3.6.13"
  }
 },
 "nbformat": 4,
 "nbformat_minor": 5
}
