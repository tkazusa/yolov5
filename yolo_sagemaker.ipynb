{
 "cells": [
  {
   "cell_type": "code",
   "execution_count": 1,
   "id": "1fdc9955",
   "metadata": {},
   "outputs": [
    {
     "name": "stdout",
     "output_type": "stream",
     "text": [
      "AWS region:us-east-1\n"
     ]
    }
   ],
   "source": [
    "import boto3\n",
    "from torchvision import datasets, transforms\n",
    "from torch.utils.data import DataLoader\n",
    "import torch\n",
    "import os\n",
    "\n",
    "import sagemaker\n",
    "from sagemaker.tuner import IntegerParameter, CategoricalParameter, ContinuousParameter, HyperparameterTuner\n",
    "\n",
    "sagemaker_session = sagemaker.Session()\n",
    "\n",
    "bucket = sagemaker_session.default_bucket()\n",
    "#bucket = '20210520-sagemaker-yolo-ddp'\n",
    "prefix = 'data'\n",
    "\n",
    "role = sagemaker.get_execution_role()\n",
    "\n",
    "session = boto3.session.Session()\n",
    "region = session.region_name\n",
    "print(f\"AWS region:{region}\")"
   ]
  },
  {
   "cell_type": "code",
   "execution_count": 12,
   "id": "30c5b2bc",
   "metadata": {},
   "outputs": [],
   "source": [
    "#image = \"yolov5-sagemaker-109-cu100-4\"  # Example: mask-rcnn-smdataparallel-sagemaker\n",
    "#image = \"yolov5-sagemaker-109-cu111-4\"\n",
    "image = \"yolov5-sagemaker-109-cu100-env\"\n",
    "tag = \"pt1.8\"  # Example: pt1.8"
   ]
  },
  {
   "cell_type": "code",
   "execution_count": 13,
   "id": "257e13a0",
   "metadata": {},
   "outputs": [
    {
     "name": "stdout",
     "output_type": "stream",
     "text": [
      "Deleted Images:\n",
      "untagged: 815969174475.dkr.ecr.us-east-1.amazonaws.com/yolov5-sagemaker-109-cu100:pt1.8\n",
      "untagged: 815969174475.dkr.ecr.us-east-1.amazonaws.com/yolov5-sagemaker-109-cu100@sha256:7bd1f287c5928a77a6eeb726ba5684baf24da7e32a084a315ebcb385955ad114\n",
      "untagged: yolov5-sagemaker-109-cu100:latest\n",
      "deleted: sha256:1a3fa9f1c9da70be1afa395e10d4daef0d6e4ae4e3b2e425cf4a8080f8f45873\n",
      "deleted: sha256:9b96c8929e242e7b0f526cad97e23c5ae5b549263c2766519cb5a2726953393b\n",
      "deleted: sha256:c2c27063d8c01e3c6d1ee85bdb19da161b5fae201a60bbec94a093bad3aa9e01\n",
      "deleted: sha256:c31fca03e82940ed9a8a7df2b28b0c92b55dd094e97607f1c08c9fba44a14ded\n",
      "deleted: sha256:11b829437e820ef6d1beda926096811a1fea0ba1cd7078dd8823a2243178dc8d\n",
      "deleted: sha256:3f972b8071bc3a06d18f071ce5f43487e5bb5f25674d7ae22ac976e0a1aabea1\n",
      "deleted: sha256:77dc9eef25e1459220c722ed7c4fc100f88578a911f597434abda4b981a2915f\n",
      "deleted: sha256:63467a17ca784a3618a6224c8404eea5821e6ac3b20574b3fc76e891ce98bdeb\n",
      "untagged: 763104351884.dkr.ecr.us-east-1.amazonaws.com/pytorch-training:1.7.1-gpu-py36-cu110-ubuntu18.04\n",
      "untagged: 763104351884.dkr.ecr.us-east-1.amazonaws.com/pytorch-training@sha256:e89eefa304c941867276811c4feeaa708b454482116fbf3e1f633ea00050a11a\n",
      "deleted: sha256:910c070760f257d373bcc1f5a5b27d83e8d396c0c94d4aafa2b068064839acec\n",
      "deleted: sha256:333d0ef240e2e5e6e5756fd97a72b4138aea441de78ed8b7f99d88bf98d425e9\n",
      "deleted: sha256:79fb6eea126eb65c3a1b149ed311ff56f168054bd5ffcc2e5feb704fbf02aa7c\n",
      "deleted: sha256:96d6b1c39ebd07bce8c8debe0a943b82821dfe4f1c6a999d8502ba0919be6865\n",
      "deleted: sha256:a4608058ecfe9f464d7a41ca84f042510d2b852e93856c01f17c9947cd12f536\n",
      "deleted: sha256:a48baddf5a487d4e152c1bdb33262b424a30a55e81ab2a29573fa8344f314709\n",
      "deleted: sha256:546abe2939a540f3b9cca4297e98ebbbee3e46e1f5aaeda825df3708b404421c\n",
      "deleted: sha256:0c9f8e34dbcbbe5a7ba6fda025ee2cdb7c24525a89e56947f3483163df90c862\n",
      "deleted: sha256:6441a3a8244a3f1eac7c1b3b1709f5aa7525d1fa4b11314ef9a4142f2a01affb\n",
      "deleted: sha256:7b1acfd1d33af7010804eaac82208ad26babb44254612158608124833a6e3526\n",
      "deleted: sha256:e19bf3c2a2ed94312148a3ec89a353ad153b35e6b7fdfb8778082c7098230976\n",
      "deleted: sha256:3cfbbaff1f618894a96bb01c88a1e79e89b18fcd7329a47eaab94c6d81df5936\n",
      "deleted: sha256:44dfb8e65a00287a2f4be7446348a41a484bf2f533156250cd20be166d32928f\n",
      "deleted: sha256:47a86f54a333cabe76869a83edd5e48114e4fff1766dcdba71ef8416228f2bcd\n",
      "deleted: sha256:a83f1d6e5f0de875d34f21a0d457478f75703e97901745cab01ad5d9b9c6d336\n",
      "deleted: sha256:f56c11a41d40f1880c35478c80a7db114e7718cefbf5bc9216ca80020e5adfb9\n",
      "deleted: sha256:23520768335362d9420a949737fc031e339398456686a1942273e974e54e2132\n",
      "deleted: sha256:fed17f7c6eef8d8abb76fbfa843dbf1e41798c0e42c96adf4c9deaf85a45428c\n",
      "deleted: sha256:f772341d81899b9caab2fd7db3e25aea80f69e1a6e8eb42a557c3b1d9aca42f5\n",
      "deleted: sha256:e73a6eaebf641acecd352db386a014febf3908c8350fad8dfd7c491ddf4edb15\n",
      "deleted: sha256:5e78e5bee5dcfe2ef0512c2cdb02f4cd6cfc8f2ef7db7f4e9eeb51417cf920bb\n",
      "deleted: sha256:c26184a1ecd40a260ef94510e28bacb0a0cbf5c74fde4e5804caf6cd57c70dec\n",
      "deleted: sha256:85c25dca8bff9bc1797db3c7d4039e117a2007f33b37e670c5079767c4ce10ce\n",
      "deleted: sha256:f68891f0a8d228477fcc527ef1083dcbf28415519364c522aed4d0d5b4908c3f\n",
      "deleted: sha256:e5e62bf0d4bb771a50bb1fc0735a7d5fa94ddbcb6bedfe52ee9d665cd7fddd76\n",
      "deleted: sha256:dae8a7ea43840f65647da2f7de8defbc3c80108931ad30c23e945e2b64d67087\n",
      "deleted: sha256:2151b88be5d99cb82857dda56eee7e5a8df6d32bed5aa743320ae16754c77d83\n",
      "deleted: sha256:01549bf5121b4d77efb1bfd467043d708999af767a093fd26c02ca3c3e4a59e8\n",
      "deleted: sha256:5fbf9f11089e726927f69e7baffb5279ca1d1295bec8c767a02959333e919f57\n",
      "deleted: sha256:8f04e4b268f301dce9415daa484fc23440502156d7f7a171866a76e288cd44ad\n",
      "deleted: sha256:4147fee5217ad7ee020f2f67db420aa016eaee19ac94ce14ad34e21a3d433e5b\n",
      "deleted: sha256:423662870fb3d051ccbc52495a1ff83e3b0c136d88614618dd18ea5b5a4fda15\n",
      "deleted: sha256:dd44b56f7a8f4d7c34f8fe346f507e46defea98f198bccd13ef227a80a512f18\n",
      "deleted: sha256:80580270666742c625aecc56607a806ba343a66a8f5a7fd708e6c4e4c07a3e9b\n",
      "\n",
      "Total reclaimed space: 13.59GB\n",
      "Error: No such volume: docker volume ls -q -f dangling=true\n"
     ]
    }
   ],
   "source": [
    "!docker system prune -a -f --volumes\n",
    "!docker volume rm \"docker volume ls -q -f dangling=true\""
   ]
  },
  {
   "cell_type": "code",
   "execution_count": 14,
   "id": "e27ee960",
   "metadata": {},
   "outputs": [
    {
     "name": "stdout",
     "output_type": "stream",
     "text": [
      "\u001b[34mARG\u001b[39;49;00m region\n",
      "\n",
      "\u001b[37m# FROM 763104351884.dkr.ecr.${region}.amazonaws.com/pytorch-training:1.8.1-gpu-py36-cu111-ubuntu18.04\u001b[39;49;00m\n",
      "\u001b[34mFROM\u001b[39;49;00m \u001b[33m763104351884.dkr.ecr.us-east-1.amazonaws.com/pytorch-training:1.7.1-gpu-py36-cu110-ubuntu18.04\u001b[39;49;00m\n",
      "\n",
      "\u001b[37m#RUN cd /root && \\\u001b[39;49;00m\n",
      "\u001b[37m#\tgit clone --recursive https://github.com/tkazusa/yolov5-sagemaker-distributed-data-parallel.git && \\\u001b[39;49;00m\n",
      "\u001b[37m#    chmod -R 775 yolov5-sagemaker-distributed-data-parallel && \\\u001b[39;49;00m\n",
      "\u001b[37m#\tcd yolov5-sagemaker-distributed-data-parallel && \\\u001b[39;49;00m\n",
      "\u001b[37m#\tpip install -r requirements.txt &&\\\u001b[39;49;00m\n",
      "\u001b[37m#    pip install -U smdebug\u001b[39;49;00m\n",
      "    \n",
      "\n",
      "\u001b[37m# Install python dependenies\u001b[39;49;00m\n",
      "\u001b[34mCOPY\u001b[39;49;00m requirements.txt .\n",
      "\u001b[34mRUN\u001b[39;49;00m python -m pip install --upgrade pip\n",
      "\u001b[34mRUN\u001b[39;49;00m pip install --no-cache -r requirements.txt coremltools onnx gsutil notebook\n",
      "\u001b[34mRUN\u001b[39;49;00m pip install -U smdebug\n",
      "\n",
      "\u001b[34mENV\u001b[39;49;00m SAGEMAKER_INSTANCE_TYPE ml.p3.16xlarge\n"
     ]
    }
   ],
   "source": [
    "!pygmentize ./Dockerfile"
   ]
  },
  {
   "cell_type": "code",
   "execution_count": 15,
   "id": "556d2ed9",
   "metadata": {},
   "outputs": [
    {
     "name": "stdout",
     "output_type": "stream",
     "text": [
      "REPOSITORY          TAG                 IMAGE ID            CREATED             SIZE\n"
     ]
    }
   ],
   "source": [
    "!docker images"
   ]
  },
  {
   "cell_type": "code",
   "execution_count": null,
   "id": "b7e3f1dc",
   "metadata": {},
   "outputs": [
    {
     "name": "stdout",
     "output_type": "stream",
     "text": [
      "WARNING! Using --password via the CLI is insecure. Use --password-stdin.\n",
      "WARNING! Your password will be stored unencrypted in /home/ec2-user/.docker/config.json.\n",
      "Configure a credential helper to remove this warning. See\n",
      "https://docs.docker.com/engine/reference/commandline/login/#credentials-store\n",
      "\n",
      "Login Succeeded\n",
      "Sending build context to Docker daemon  191.3MB\n",
      "Step 1/7 : ARG region\n",
      "Step 2/7 : FROM 763104351884.dkr.ecr.us-east-1.amazonaws.com/pytorch-training:1.7.1-gpu-py36-cu110-ubuntu18.04\n",
      "1.7.1-gpu-py36-cu110-ubuntu18.04: Pulling from pytorch-training\n",
      "\n",
      "\u001b[1B57c49d0f: Pulling fs layer \n",
      "\u001b[1B40447d26: Pulling fs layer \n",
      "\u001b[1B2f862619: Pulling fs layer \n",
      "\u001b[1B278deddf: Pulling fs layer \n",
      "\u001b[1B80049843: Pulling fs layer \n",
      "\u001b[1B556b2329: Pulling fs layer \n",
      "\u001b[1Ba0c97a55: Pulling fs layer \n",
      "\u001b[1B78bd0b24: Pulling fs layer \n",
      "\u001b[1B6c31766d: Pulling fs layer \n",
      "\u001b[1Bd9c8e84f: Pulling fs layer \n",
      "\u001b[1B7fdf2ea6: Pulling fs layer \n",
      "\u001b[1Bc41da723: Pulling fs layer \n",
      "\u001b[1B0befbc6f: Pulling fs layer \n",
      "\u001b[1Bcf9fbe3c: Pulling fs layer \n",
      "\u001b[1Bc7df16f1: Pulling fs layer \n",
      "\u001b[1Bd58b12f9: Pulling fs layer \n",
      "\u001b[1B0b5dbfbc: Pulling fs layer \n",
      "\u001b[1B2dd9b601: Pulling fs layer \n",
      "\u001b[16B78deddf: Waiting fs layer \n",
      "\u001b[1Becb9a567: Pulling fs layer \n",
      "\u001b[17B0049843: Waiting fs layer \n",
      "\u001b[17B56b2329: Waiting fs layer \n",
      "\u001b[1B6abf9424: Pulling fs layer \n",
      "\u001b[18B0c97a55: Waiting fs layer \n",
      "\u001b[1Be67d0516: Pulling fs layer \n",
      "\u001b[19B8bd0b24: Waiting fs layer \n",
      "\u001b[1B7532a4b4: Pulling fs layer \n",
      "\u001b[20Bc31766d: Waiting fs layer \n",
      "\u001b[1B517c94c4: Pulling fs layer \n",
      "\u001b[1B7c5e9076: Pulling fs layer \n",
      "\u001b[22B9c8e84f: Waiting fs layer \n",
      "\u001b[1B2cfb0af6: Pulling fs layer \n",
      "\u001b[19B7df16f1: Extracting    254MB/402.5MBB33A\u001b[2K\u001b[30A\u001b[2K\u001b[33A\u001b[2K\u001b[29A\u001b[2K\u001b[33A\u001b[2K\u001b[28A\u001b[2K\u001b[33A\u001b[2K\u001b[27A\u001b[2K\u001b[26A\u001b[2K\u001b[33A\u001b[2K\u001b[26A\u001b[2K\u001b[33A\u001b[2K\u001b[33A\u001b[2K\u001b[26A\u001b[2K\u001b[33A\u001b[2K\u001b[26A\u001b[2K\u001b[27A\u001b[2K\u001b[25A\u001b[2K\u001b[27A\u001b[2K\u001b[25A\u001b[2K\u001b[27A\u001b[2K\u001b[25A\u001b[2K\u001b[27A\u001b[2K\u001b[25A\u001b[2K\u001b[26A\u001b[2K\u001b[33A\u001b[2K\u001b[26A\u001b[2K\u001b[33A\u001b[2K\u001b[25A\u001b[2K\u001b[32A\u001b[2K\u001b[27A\u001b[2K\u001b[26A\u001b[2K\u001b[31A\u001b[2K\u001b[26A\u001b[2K\u001b[30A\u001b[2K\u001b[26A\u001b[2K\u001b[30A\u001b[2K\u001b[25A\u001b[2K\u001b[30A\u001b[2K\u001b[25A\u001b[2K\u001b[29A\u001b[2K\u001b[25A\u001b[2K\u001b[29A\u001b[2K\u001b[29A\u001b[2K\u001b[26A\u001b[2K\u001b[26A\u001b[2K\u001b[27A\u001b[2K\u001b[26A\u001b[2K\u001b[26A\u001b[2K\u001b[27A\u001b[2K\u001b[25A\u001b[2K\u001b[26A\u001b[2K\u001b[25A\u001b[2K\u001b[26A\u001b[2K\u001b[25A\u001b[2K\u001b[27A\u001b[2K\u001b[25A\u001b[2K\u001b[27A\u001b[2K\u001b[26A\u001b[2K\u001b[26A\u001b[2K\u001b[25A\u001b[2K\u001b[26A\u001b[2K\u001b[25A\u001b[2K\u001b[26A\u001b[2K\u001b[25A\u001b[2K\u001b[26A\u001b[2K\u001b[25A\u001b[2K\u001b[26A\u001b[2K\u001b[27A\u001b[2K\u001b[25A\u001b[2K\u001b[27A\u001b[2K\u001b[25A\u001b[2K\u001b[26A\u001b[2K\u001b[25A\u001b[2K\u001b[26A\u001b[2K\u001b[27A\u001b[2K\u001b[27A\u001b[2K\u001b[26A\u001b[2K\u001b[25A\u001b[2K\u001b[27A\u001b[2K\u001b[25A\u001b[2K\u001b[26A\u001b[2K\u001b[25A\u001b[2K\u001b[25A\u001b[2K\u001b[26A\u001b[2K\u001b[26A\u001b[2K\u001b[25A\u001b[2K\u001b[26A\u001b[2K\u001b[25A\u001b[2K\u001b[27A\u001b[2K\u001b[25A\u001b[2K\u001b[25A\u001b[2K\u001b[26A\u001b[2K\u001b[27A\u001b[2K\u001b[26A\u001b[2K\u001b[25A\u001b[2K\u001b[26A\u001b[2K\u001b[25A\u001b[2K\u001b[26A\u001b[2K\u001b[27A\u001b[2K\u001b[25A\u001b[2K\u001b[27A\u001b[2K\u001b[25A\u001b[2K\u001b[26A\u001b[2K\u001b[27A\u001b[2K\u001b[26A\u001b[2K\u001b[27A\u001b[2K\u001b[26A\u001b[2K\u001b[25A\u001b[2K\u001b[26A\u001b[2K\u001b[27A\u001b[2K\u001b[25A\u001b[2K\u001b[26A\u001b[2K\u001b[27A\u001b[2K\u001b[26A\u001b[2K\u001b[27A\u001b[2K\u001b[25A\u001b[2K\u001b[26A\u001b[2K\u001b[27A\u001b[2K\u001b[26A\u001b[2K\u001b[25A\u001b[2K\u001b[27A\u001b[2K\u001b[25A\u001b[2K\u001b[27A\u001b[2K\u001b[25A\u001b[2K\u001b[26A\u001b[2K\u001b[25A\u001b[2K\u001b[27A\u001b[2K\u001b[26A\u001b[2K\u001b[25A\u001b[2K\u001b[25A\u001b[2K\u001b[25A\u001b[2K\u001b[26A\u001b[2K\u001b[25A\u001b[2K\u001b[27A\u001b[2K\u001b[25A\u001b[2K\u001b[27A\u001b[2K\u001b[25A\u001b[2K\u001b[26A\u001b[2K\u001b[27A\u001b[2K\u001b[27A\u001b[2K\u001b[27A\u001b[2K\u001b[27A\u001b[2K\u001b[25A\u001b[2K\u001b[27A\u001b[2K\u001b[25A\u001b[2K\u001b[27A\u001b[2K\u001b[26A\u001b[2K\u001b[25A\u001b[2K\u001b[26A\u001b[2K\u001b[25A\u001b[2K\u001b[25A\u001b[2K\u001b[27A\u001b[2K\u001b[25A\u001b[2K\u001b[26A\u001b[2K\u001b[27A\u001b[2K\u001b[25A\u001b[2K\u001b[26A\u001b[2K\u001b[25A\u001b[2K\u001b[26A\u001b[2K\u001b[25A\u001b[2K\u001b[26A\u001b[2K\u001b[25A\u001b[2K\u001b[26A\u001b[2KDownloading  362.7MB/1.058GB\u001b[26A\u001b[2K\u001b[25A\u001b[2K\u001b[26A\u001b[2K\u001b[27A\u001b[2K\u001b[25A\u001b[2K\u001b[26A\u001b[2K\u001b[27A\u001b[2K\u001b[25A\u001b[2K\u001b[25A\u001b[2K\u001b[27A\u001b[2K\u001b[27A\u001b[2K\u001b[26A\u001b[2K\u001b[27A\u001b[2K\u001b[25A\u001b[2K\u001b[25A\u001b[2K\u001b[27A\u001b[2K\u001b[25A\u001b[2K\u001b[26A\u001b[2K\u001b[25A\u001b[2K\u001b[26A\u001b[2K\u001b[25A\u001b[2K\u001b[26A\u001b[2K\u001b[25A\u001b[2K\u001b[26A\u001b[2K\u001b[27A\u001b[2K\u001b[25A\u001b[2K\u001b[26A\u001b[2K\u001b[27A\u001b[2K\u001b[26A\u001b[2K\u001b[27A\u001b[2K\u001b[25A\u001b[2K\u001b[26A\u001b[2K\u001b[25A\u001b[2K\u001b[26A\u001b[2K\u001b[25A\u001b[2K\u001b[26A\u001b[2K\u001b[25A\u001b[2K\u001b[27A\u001b[2K\u001b[25A\u001b[2K\u001b[27A\u001b[2K\u001b[25A\u001b[2K\u001b[26A\u001b[2K\u001b[26A\u001b[2K\u001b[27A\u001b[2K\u001b[27A\u001b[2K\u001b[25A\u001b[2K\u001b[27A\u001b[2K\u001b[26A\u001b[2K\u001b[27A\u001b[2K\u001b[25A\u001b[2K\u001b[25A\u001b[2K\u001b[26A\u001b[2K\u001b[27A\u001b[2K\u001b[25A\u001b[2K\u001b[26A\u001b[2K\u001b[25A\u001b[2K\u001b[26A\u001b[2K\u001b[27A\u001b[2K\u001b[27A\u001b[2K\u001b[26A\u001b[2K\u001b[25A\u001b[2K\u001b[27A\u001b[2K\u001b[26A\u001b[2K\u001b[25A\u001b[2K\u001b[27A\u001b[2K\u001b[25A\u001b[2K\u001b[27A\u001b[2K\u001b[27A\u001b[2K\u001b[26A\u001b[2K\u001b[27A\u001b[2K\u001b[27A\u001b[2K\u001b[25A\u001b[2K\u001b[27A\u001b[2K\u001b[25A\u001b[2K\u001b[26A\u001b[2K\u001b[27A\u001b[2K\u001b[27A\u001b[2K\u001b[25A\u001b[2K\u001b[27A\u001b[2K\u001b[25A\u001b[2K\u001b[25A\u001b[2K\u001b[27A\u001b[2K\u001b[25A\u001b[2K\u001b[27A\u001b[2K\u001b[26A\u001b[2K\u001b[27A\u001b[2K\u001b[26A\u001b[2K\u001b[27A\u001b[2K\u001b[26A\u001b[2K\u001b[25A\u001b[2K\u001b[27A\u001b[2K\u001b[26A\u001b[2K\u001b[25A\u001b[2K\u001b[26A\u001b[2K\u001b[25A\u001b[2K\u001b[27A\u001b[2K\u001b[25A\u001b[2K\u001b[25A\u001b[2K\u001b[25A\u001b[2K\u001b[26A\u001b[2K\u001b[27A\u001b[2K\u001b[25A\u001b[2K\u001b[27A\u001b[2K\u001b[26A\u001b[2K\u001b[26A\u001b[2K\u001b[25A\u001b[2K\u001b[26A\u001b[2K\u001b[27A\u001b[2K\u001b[26A\u001b[2K\u001b[27A\u001b[2K\u001b[25A\u001b[2K\u001b[26A\u001b[2K\u001b[27A\u001b[2K\u001b[26A\u001b[2K\u001b[26A\u001b[2K\u001b[27A\u001b[2K\u001b[25A\u001b[2K\u001b[25A\u001b[2K\u001b[26A\u001b[2K\u001b[26A\u001b[2K\u001b[25A\u001b[2K\u001b[25A\u001b[2K\u001b[26A\u001b[2K\u001b[25A\u001b[2K\u001b[26A\u001b[2K\u001b[25A\u001b[2K\u001b[25A\u001b[2K\u001b[27A\u001b[2K\u001b[25A\u001b[2K\u001b[26A\u001b[2K\u001b[27A\u001b[2K\u001b[27A\u001b[2K\u001b[27A\u001b[2K\u001b[27A\u001b[2K\u001b[25A\u001b[2K\u001b[27A\u001b[2K\u001b[25A\u001b[2K\u001b[27A\u001b[2K\u001b[25A\u001b[2K\u001b[26A\u001b[2K\u001b[27A\u001b[2K\u001b[26A\u001b[2K\u001b[27A\u001b[2K\u001b[25A\u001b[2K\u001b[27A\u001b[2K\u001b[26A\u001b[2K\u001b[25A\u001b[2K\u001b[26A\u001b[2K\u001b[25A\u001b[2K\u001b[26A\u001b[2K\u001b[25A\u001b[2K\u001b[27A\u001b[2K\u001b[25A\u001b[2K\u001b[26A\u001b[2K\u001b[25A\u001b[2K\u001b[27A\u001b[2K\u001b[27A\u001b[2K\u001b[26A\u001b[2K\u001b[27A\u001b[2K\u001b[25A\u001b[2K\u001b[26A\u001b[2K\u001b[25A\u001b[2K\u001b[26A\u001b[2K\u001b[25A\u001b[2K\u001b[26A\u001b[2K\u001b[26A\u001b[2K\u001b[27A\u001b[2K\u001b[26A\u001b[2K\u001b[27A\u001b[2K\u001b[27A\u001b[2K\u001b[26A\u001b[2K\u001b[25A\u001b[2K\u001b[26A\u001b[2K\u001b[27A\u001b[2K\u001b[25A\u001b[2K\u001b[27A\u001b[2K\u001b[25A\u001b[2K\u001b[26A\u001b[2K\u001b[25A\u001b[2K\u001b[26A\u001b[2K\u001b[27A\u001b[2K\u001b[26A\u001b[2K\u001b[27A\u001b[2K\u001b[26A\u001b[2K\u001b[27A\u001b[2K\u001b[26A\u001b[2K\u001b[27A\u001b[2K\u001b[25A\u001b[2K\u001b[27A\u001b[2K\u001b[25A\u001b[2K\u001b[27A\u001b[2K\u001b[25A\u001b[2K\u001b[26A\u001b[2K\u001b[27A\u001b[2K\u001b[26A\u001b[2K\u001b[25A\u001b[2K\u001b[27A\u001b[2K\u001b[26A\u001b[2K\u001b[27A\u001b[2K\u001b[26A\u001b[2K\u001b[27A\u001b[2K\u001b[25A\u001b[2K\u001b[27A\u001b[2K\u001b[26A\u001b[2K\u001b[25A\u001b[2K\u001b[26A\u001b[2K\u001b[25A\u001b[2K\u001b[26A\u001b[2K\u001b[25A\u001b[2K\u001b[26A\u001b[2K\u001b[25A\u001b[2K\u001b[26A\u001b[2K\u001b[25A\u001b[2K\u001b[26A\u001b[2K\u001b[27A\u001b[2K\u001b[26A\u001b[2K\u001b[27A\u001b[2K\u001b[25A\u001b[2K\u001b[27A\u001b[2K\u001b[26A\u001b[2K\u001b[26A\u001b[2K\u001b[25A\u001b[2K\u001b[26A\u001b[2K\u001b[25A\u001b[2K\u001b[26A\u001b[2K\u001b[26A\u001b[2K\u001b[27A\u001b[2K\u001b[26A\u001b[2K\u001b[25A\u001b[2K\u001b[27A\u001b[2K\u001b[26A\u001b[2K\u001b[26A\u001b[2K\u001b[25A\u001b[2K\u001b[27A\u001b[2K\u001b[26A\u001b[2K\u001b[27A\u001b[2K\u001b[26A\u001b[2K\u001b[25A\u001b[2K\u001b[27A\u001b[2K\u001b[26A\u001b[2K\u001b[27A\u001b[2K\u001b[25A\u001b[2K\u001b[26A\u001b[2K\u001b[27A\u001b[2K\u001b[26A\u001b[2K\u001b[27A\u001b[2K\u001b[26A\u001b[2K\u001b[27A\u001b[2K\u001b[26A\u001b[2K\u001b[25A\u001b[2K\u001b[26A\u001b[2K\u001b[26A\u001b[2K\u001b[27A\u001b[2K\u001b[26A\u001b[2K\u001b[27A\u001b[2K\u001b[25A\u001b[2K\u001b[26A\u001b[2K\u001b[27A\u001b[2K\u001b[26A\u001b[2K\u001b[27A\u001b[2K\u001b[24A\u001b[2K\u001b[25A\u001b[2K\u001b[27A\u001b[2K\u001b[25A\u001b[2K\u001b[27A\u001b[2K\u001b[24A\u001b[2K\u001b[27A\u001b[2K\u001b[25A\u001b[2K\u001b[25A\u001b[2K\u001b[25A\u001b[2K\u001b[24A\u001b[2K\u001b[27A\u001b[2K\u001b[27A\u001b[2K\u001b[25A\u001b[2K\u001b[27A\u001b[2K\u001b[24A\u001b[2K\u001b[27A\u001b[2K\u001b[25A\u001b[2K\u001b[27A\u001b[2K\u001b[24A\u001b[2K\u001b[27A\u001b[2K\u001b[24A\u001b[2K\u001b[25A\u001b[2K\u001b[27A\u001b[2K\u001b[24A\u001b[2K\u001b[24A\u001b[2K\u001b[25A\u001b[2K\u001b[27A\u001b[2K\u001b[25A\u001b[2K\u001b[24A\u001b[2K\u001b[27A\u001b[2K\u001b[25A\u001b[2K\u001b[24A\u001b[2K\u001b[24A\u001b[2K\u001b[27A\u001b[2K\u001b[24A\u001b[2K\u001b[24A\u001b[2K\u001b[23A\u001b[2K\u001b[24A\u001b[2K\u001b[23A\u001b[2K\u001b[24A\u001b[2K\u001b[27A\u001b[2K\u001b[24A\u001b[2K\u001b[27A\u001b[2K\u001b[23A\u001b[2K\u001b[27A\u001b[2K\u001b[24A\u001b[2K\u001b[27A\u001b[2K\u001b[27A\u001b[2K\u001b[24A\u001b[2K\u001b[22A\u001b[2K\u001b[22A\u001b[2K\u001b[23A\u001b[2K\u001b[27A\u001b[2K\u001b[21A\u001b[2K\u001b[24A\u001b[2K\u001b[21A\u001b[2K\u001b[23A\u001b[2K\u001b[24A\u001b[2K\u001b[23A\u001b[2K\u001b[24A\u001b[2K\u001b[23A\u001b[2K\u001b[24A\u001b[2K\u001b[21A\u001b[2K\u001b[24A\u001b[2K\u001b[27A\u001b[2K\u001b[24A\u001b[2K\u001b[27A\u001b[2K\u001b[21A\u001b[2K\u001b[23A\u001b[2K\u001b[21A\u001b[2K\u001b[23A\u001b[2K\u001b[21A\u001b[2K\u001b[27A\u001b[2K\u001b[27A\u001b[2K\u001b[21A\u001b[2K\u001b[23A\u001b[2K\u001b[21A\u001b[2K\u001b[27A\u001b[2K\u001b[19A\u001b[2K\u001b[27A\u001b[2K\u001b[21A\u001b[2K\u001b[27A\u001b[2K\u001b[19A\u001b[2K\u001b[27A\u001b[2K\u001b[27A\u001b[2K\u001b[19A\u001b[2K\u001b[27A\u001b[2K\u001b[21A\u001b[2K\u001b[27A\u001b[2K\u001b[23A\u001b[2K\u001b[19A\u001b[2K\u001b[23A\u001b[2K\u001b[27A\u001b[2K\u001b[21A\u001b[2K\u001b[27A\u001b[2K\u001b[19A\u001b[2K\u001b[21A\u001b[2K\u001b[19A\u001b[2K\u001b[21A\u001b[2K\u001b[19A\u001b[2K\u001b[23A\u001b[2K\u001b[27A\u001b[2K\u001b[19A\u001b[2K\u001b[21A\u001b[2K\u001b[19A\u001b[2K\u001b[21A\u001b[2K\u001b[27A\u001b[2K\u001b[19A\u001b[2K\u001b[27A\u001b[2K\u001b[23A\u001b[2K\u001b[27A\u001b[2K\u001b[23A\u001b[2K\u001b[27A\u001b[2K\u001b[19A\u001b[2K\u001b[27A\u001b[2K\u001b[23A\u001b[2K\u001b[19A\u001b[2K\u001b[18A\u001b[2K\u001b[27A\u001b[2K\u001b[27A\u001b[2K\u001b[21A\u001b[2K\u001b[27A\u001b[2K\u001b[19A\u001b[2K\u001b[27A\u001b[2K\u001b[19A\u001b[2K\u001b[27A\u001b[2K\u001b[19A\u001b[2K\u001b[15A\u001b[2K\u001b[27A\u001b[2K\u001b[15A\u001b[2K\u001b[15A\u001b[2K\u001b[19A\u001b[2K\u001b[15A\u001b[2K\u001b[21A\u001b[2K\u001b[15A\u001b[2K\u001b[27A\u001b[2K\u001b[15A\u001b[2K\u001b[19A\u001b[2K\u001b[15A\u001b[2K\u001b[15A\u001b[2K\u001b[19A\u001b[2K\u001b[15A\u001b[2K\u001b[19A\u001b[2K\u001b[27A\u001b[2K\u001b[19A\u001b[2K\u001b[27A\u001b[2K\u001b[19A\u001b[2K\u001b[27A\u001b[2K\u001b[15A\u001b[2K\u001b[27A\u001b[2K\u001b[15A\u001b[2K\u001b[27A\u001b[2K\u001b[21A\u001b[2K\u001b[27A\u001b[2K\u001b[15A\u001b[2K\u001b[15A\u001b[2K\u001b[19A\u001b[2K\u001b[15A\u001b[2K\u001b[19A\u001b[2K\u001b[19A\u001b[2K\u001b[15A\u001b[2K\u001b[19A\u001b[2K\u001b[27A\u001b[2K\u001b[19A\u001b[2K\u001b[27A\u001b[2K\u001b[19A\u001b[2K\u001b[27A\u001b[2K\u001b[15A\u001b[2K\u001b[19A\u001b[2K\u001b[21A\u001b[2K\u001b[27A\u001b[2K\u001b[19A\u001b[2K\u001b[15A\u001b[2K\u001b[19A\u001b[2K\u001b[21A\u001b[2K\u001b[19A\u001b[2K\u001b[15A\u001b[2K\u001b[19A\u001b[2K\u001b[15A\u001b[2K\u001b[19A\u001b[2K\u001b[21A\u001b[2K\u001b[27A\u001b[2K\u001b[19A\u001b[2K\u001b[27A\u001b[2K\u001b[21A\u001b[2K\u001b[27A\u001b[2K\u001b[19A\u001b[2K\u001b[21A\u001b[2K\u001b[19A\u001b[2K\u001b[21A\u001b[2K\u001b[27A\u001b[2K\u001b[19A\u001b[2K\u001b[27A\u001b[2K\u001b[19A\u001b[2K\u001b[27A\u001b[2K\u001b[21A\u001b[2K\u001b[27A\u001b[2K\u001b[15A\u001b[2K\u001b[19A\u001b[2K\u001b[27A\u001b[2K\u001b[21A\u001b[2K\u001b[27A\u001b[2K\u001b[21A\u001b[2K\u001b[27A\u001b[2K\u001b[21A\u001b[2K\u001b[19A\u001b[2K\u001b[21A\u001b[2K\u001b[19A\u001b[2K\u001b[21A\u001b[2K\u001b[19A\u001b[2K\u001b[15A\u001b[2K\u001b[27A\u001b[2K\u001b[19A\u001b[2K\u001b[27A\u001b[2K\u001b[19A\u001b[2K\u001b[27A\u001b[2K\u001b[19A\u001b[2K\u001b[27A\u001b[2K\u001b[19A\u001b[2K\u001b[15A\u001b[2K\u001b[19A\u001b[2K\u001b[15A\u001b[2K\u001b[27A\u001b[2K\u001b[19A\u001b[2K\u001b[27A\u001b[2K\u001b[15A\u001b[2K\u001b[21A\u001b[2K\u001b[15A\u001b[2K\u001b[21A\u001b[2K\u001b[27A\u001b[2K\u001b[21A\u001b[2K\u001b[15A\u001b[2K\u001b[19A\u001b[2K\u001b[15A\u001b[2K\u001b[21A\u001b[2K\u001b[15A\u001b[2K\u001b[21A\u001b[2K\u001b[15A\u001b[2K\u001b[15A\u001b[2K\u001b[27A\u001b[2K\u001b[19A\u001b[2K\u001b[15A\u001b[2K\u001b[19A\u001b[2K\u001b[15A\u001b[2K\u001b[21A\u001b[2K\u001b[19A\u001b[2K\u001b[27A\u001b[2K\u001b[15A\u001b[2K\u001b[21A\u001b[2K\u001b[27A\u001b[2K\u001b[19A\u001b[2K\u001b[27A\u001b[2K\u001b[21A\u001b[2K\u001b[27A\u001b[2K\u001b[15A\u001b[2K\u001b[14A\u001b[2K\u001b[15A\u001b[2K\u001b[13A\u001b[2K\u001b[27A\u001b[2K\u001b[21A\u001b[2K\u001b[15A\u001b[2K\u001b[21A\u001b[2K\u001b[15A\u001b[2K\u001b[21A\u001b[2K\u001b[15A\u001b[2K\u001b[21A\u001b[2K\u001b[27A\u001b[2K\u001b[21A\u001b[2K\u001b[15A\u001b[2K\u001b[21A\u001b[2K\u001b[21A\u001b[2K\u001b[12A\u001b[2K\u001b[15A\u001b[2K\u001b[21A\u001b[2K\u001b[12A\u001b[2K\u001b[21A\u001b[2K\u001b[26A\u001b[2K\u001b[21A\u001b[2K\u001b[15A\u001b[2K\u001b[21A\u001b[2K\u001b[12A\u001b[2K\u001b[21A\u001b[2K\u001b[12A\u001b[2K\u001b[26A\u001b[2K\u001b[12A\u001b[2K\u001b[26A\u001b[2K\u001b[21A\u001b[2K\u001b[12A\u001b[2K\u001b[12A\u001b[2K\u001b[26A\u001b[2K\u001b[15A\u001b[2K\u001b[26A\u001b[2K\u001b[15A\u001b[2K\u001b[26A\u001b[2K\u001b[15A\u001b[2K\u001b[26A\u001b[2K\u001b[26A\u001b[2K\u001b[26A\u001b[2K\u001b[15A\u001b[2K\u001b[26A\u001b[2K\u001b[21A\u001b[2K\u001b[15A\u001b[2K\u001b[12A\u001b[2K\u001b[15A\u001b[2K\u001b[26A\u001b[2K\u001b[15A\u001b[2K\u001b[26A\u001b[2K\u001b[15A\u001b[2K\u001b[11A\u001b[2K\u001b[9A\u001b[2K\u001b[15A\u001b[2K\u001b[8A\u001b[2K\u001b[26A\u001b[2K\u001b[7A\u001b[2K\u001b[6A\u001b[2K\u001b[15A\u001b[2K\u001b[5A\u001b[2K\u001b[6A\u001b[2K\u001b[6A\u001b[2K\u001b[3A\u001b[2K\u001b[26A\u001b[2K\u001b[1A\u001b[2K\u001b[26A\u001b[2K\u001b[15A\u001b[2K\u001b[26A\u001b[2K\u001b[26A\u001b[2K\u001b[26A\u001b[2K\u001b[26A\u001b[2K\u001b[15A\u001b[2K\u001b[26A\u001b[2K\u001b[15A\u001b[2K\u001b[26A\u001b[2K\u001b[26A\u001b[2K\u001b[26A\u001b[2K\u001b[26A\u001b[2K\u001b[26A\u001b[2K\u001b[15A\u001b[2K\u001b[26A\u001b[2K\u001b[15A\u001b[2K\u001b[26A\u001b[2K\u001b[26A\u001b[2K\u001b[26A\u001b[2K\u001b[26A\u001b[2K\u001b[26A\u001b[2K\u001b[26A\u001b[2K\u001b[26A\u001b[2K\u001b[26A\u001b[2K\u001b[15A\u001b[2K\u001b[26A\u001b[2K\u001b[15A\u001b[2K\u001b[26A\u001b[2K\u001b[15A\u001b[2K\u001b[26A\u001b[2K\u001b[26A\u001b[2K\u001b[15A\u001b[2K\u001b[26A\u001b[2K\u001b[26A\u001b[2K\u001b[15A\u001b[2K\u001b[26A\u001b[2K\u001b[15A\u001b[2K\u001b[26A\u001b[2K\u001b[15A\u001b[2K\u001b[26A\u001b[2K\u001b[15A\u001b[2K\u001b[26A\u001b[2K\u001b[15A\u001b[2K\u001b[26A\u001b[2K\u001b[15A\u001b[2K\u001b[26A\u001b[2K\u001b[15A\u001b[2K\u001b[26A\u001b[2K\u001b[26A\u001b[2K\u001b[26A\u001b[2K\u001b[15A\u001b[2K\u001b[26A\u001b[2K\u001b[15A\u001b[2K\u001b[26A\u001b[2K\u001b[15A\u001b[2K\u001b[26A\u001b[2K\u001b[15A\u001b[2K\u001b[15A\u001b[2K\u001b[26A\u001b[2K\u001b[26A\u001b[2K\u001b[26A\u001b[2K\u001b[26A\u001b[2K\u001b[15A\u001b[2K\u001b[26A\u001b[2K\u001b[15A\u001b[2K\u001b[15A\u001b[2K\u001b[15A\u001b[2K\u001b[26A\u001b[2K\u001b[15A\u001b[2K\u001b[26A\u001b[2K\u001b[15A\u001b[2K\u001b[26A\u001b[2K\u001b[15A\u001b[2K\u001b[26A\u001b[2K\u001b[15A\u001b[2K\u001b[26A\u001b[2K\u001b[15A\u001b[2K\u001b[15A\u001b[2K\u001b[15A\u001b[2K\u001b[26A\u001b[2K\u001b[26A\u001b[2K\u001b[26A\u001b[2K\u001b[15A\u001b[2K\u001b[26A\u001b[2K\u001b[15A\u001b[2K\u001b[26A\u001b[2K\u001b[15A\u001b[2K\u001b[26A\u001b[2K\u001b[26A\u001b[2K\u001b[26A\u001b[2K\u001b[26A\u001b[2K\u001b[26A\u001b[2K\u001b[26A\u001b[2K\u001b[26A\u001b[2K\u001b[26A\u001b[2K\u001b[26A\u001b[2K\u001b[15A\u001b[2K\u001b[15A\u001b[2K\u001b[26A\u001b[2K\u001b[26A\u001b[2K\u001b[15A\u001b[2K\u001b[26A\u001b[2K\u001b[15A\u001b[2K\u001b[26A\u001b[2K\u001b[15A\u001b[2K\u001b[15A\u001b[2K\u001b[15A\u001b[2K\u001b[26A\u001b[2K\u001b[15A\u001b[2K\u001b[15A\u001b[2K\u001b[25A\u001b[2K\u001b[25A\u001b[2K\u001b[25A\u001b[2K\u001b[15A\u001b[2K\u001b[25A\u001b[2K\u001b[15A\u001b[2K\u001b[25A\u001b[2K\u001b[25A\u001b[2K\u001b[15A\u001b[2K\u001b[25A\u001b[2K\u001b[15A\u001b[2K\u001b[25A\u001b[2K\u001b[25A\u001b[2K\u001b[15A\u001b[2K\u001b[25A\u001b[2K\u001b[15A\u001b[2K\u001b[15A\u001b[2K\u001b[25A\u001b[2K\u001b[15A\u001b[2K\u001b[25A\u001b[2K\u001b[25A\u001b[2K\u001b[15A\u001b[2K\u001b[25A\u001b[2K\u001b[15A\u001b[2K\u001b[25A\u001b[2K\u001b[25A\u001b[2K\u001b[25A\u001b[2K\u001b[15A\u001b[2K\u001b[25A\u001b[2K\u001b[15A\u001b[2K\u001b[25A\u001b[2K\u001b[25A\u001b[2K\u001b[25A\u001b[2K\u001b[15A\u001b[2K\u001b[25A\u001b[2K\u001b[15A\u001b[2K\u001b[25A\u001b[2K\u001b[15A\u001b[2K\u001b[25A\u001b[2K\u001b[25A\u001b[2K\u001b[25A\u001b[2K\u001b[25A\u001b[2K\u001b[15A\u001b[2K\u001b[15A\u001b[2K\u001b[25A\u001b[2K\u001b[25A\u001b[2K\u001b[25A\u001b[2K\u001b[25A\u001b[2K\u001b[25A\u001b[2K\u001b[25A\u001b[2K\u001b[25A\u001b[2K\u001b[25A\u001b[2K\u001b[25A\u001b[2K\u001b[25A\u001b[2K\u001b[25A\u001b[2K\u001b[25A\u001b[2K\u001b[25A\u001b[2K\u001b[25A\u001b[2K\u001b[25A\u001b[2K\u001b[25A\u001b[2K\u001b[25A\u001b[2K\u001b[25A\u001b[2K\u001b[25A\u001b[2K\u001b[25A\u001b[2K\u001b[25A\u001b[2K\u001b[25A\u001b[2K\u001b[25A\u001b[2K\u001b[25A\u001b[2K\u001b[25A\u001b[2K\u001b[25A\u001b[2K\u001b[25A\u001b[2K\u001b[25A\u001b[2K\u001b[25A\u001b[2K\u001b[25A\u001b[2K\u001b[25A\u001b[2K\u001b[25A\u001b[2K\u001b[25A\u001b[2K\u001b[25A\u001b[2K\u001b[25A\u001b[2K\u001b[25A\u001b[2K\u001b[25A\u001b[2K\u001b[25A\u001b[2K\u001b[25A\u001b[2K\u001b[25A\u001b[2K\u001b[25A\u001b[2K\u001b[25A\u001b[2K\u001b[25A\u001b[2K\u001b[25A\u001b[2K\u001b[25A\u001b[2K\u001b[25A\u001b[2K\u001b[25A\u001b[2K\u001b[25A\u001b[2K\u001b[25A\u001b[2K\u001b[25A\u001b[2K\u001b[25A\u001b[2K\u001b[25A\u001b[2K\u001b[25A\u001b[2K\u001b[25A\u001b[2K\u001b[25A\u001b[2K\u001b[25A\u001b[2K\u001b[25A\u001b[2K\u001b[25A\u001b[2K\u001b[25A\u001b[2K\u001b[25A\u001b[2KExtracting  451.8MB/1.058GB\u001b[25A\u001b[2K\u001b[25A\u001b[2K\u001b[25A\u001b[2K\u001b[25A\u001b[2K\u001b[25A\u001b[2K\u001b[25A\u001b[2K\u001b[25A\u001b[2K\u001b[25A\u001b[2K\u001b[25A\u001b[2K\u001b[25A\u001b[2K\u001b[25A\u001b[2K\u001b[25A\u001b[2K\u001b[25A\u001b[2K\u001b[25A\u001b[2K\u001b[25A\u001b[2K\u001b[25A\u001b[2K\u001b[25A\u001b[2K\u001b[25A\u001b[2K\u001b[25A\u001b[2K\u001b[25A\u001b[2K\u001b[25A\u001b[2K\u001b[25A\u001b[2K\u001b[25A\u001b[2K\u001b[25A\u001b[2K\u001b[25A\u001b[2K\u001b[25A\u001b[2K\u001b[25A\u001b[2K\u001b[25A\u001b[2K\u001b[25A\u001b[2K\u001b[25A\u001b[2K\u001b[25A\u001b[2K\u001b[25A\u001b[2K\u001b[25A\u001b[2K\u001b[25A\u001b[2K\u001b[25A\u001b[2K\u001b[25A\u001b[2K\u001b[25A\u001b[2K\u001b[25A\u001b[2K\u001b[25A\u001b[2K\u001b[25A\u001b[2K\u001b[25A\u001b[2K\u001b[25A\u001b[2K\u001b[25A\u001b[2K\u001b[25A\u001b[2K\u001b[25A\u001b[2K\u001b[25A\u001b[2K\u001b[25A\u001b[2K\u001b[25A\u001b[2K\u001b[25A\u001b[2K\u001b[25A\u001b[2K\u001b[25A\u001b[2K\u001b[25A\u001b[2K\u001b[25A\u001b[2K\u001b[25A\u001b[2K\u001b[25A\u001b[2K\u001b[25A\u001b[2K\u001b[25A\u001b[2K\u001b[25A\u001b[2K\u001b[25A\u001b[2K\u001b[25A\u001b[2K\u001b[25A\u001b[2K\u001b[25A\u001b[2K\u001b[25A\u001b[2K\u001b[25A\u001b[2K\u001b[25A\u001b[2K\u001b[25A\u001b[2K\u001b[25A\u001b[2K\u001b[25A\u001b[2K\u001b[25A\u001b[2K\u001b[25A\u001b[2K\u001b[25A\u001b[2K\u001b[25A\u001b[2K\u001b[25A\u001b[2K\u001b[25A\u001b[2K\u001b[25A\u001b[2K\u001b[25A\u001b[2K\u001b[25A\u001b[2K\u001b[25A\u001b[2K\u001b[25A\u001b[2K\u001b[25A\u001b[2K\u001b[25A\u001b[2K\u001b[25A\u001b[2K\u001b[25A\u001b[2K\u001b[25A\u001b[2K\u001b[25A\u001b[2K\u001b[25A\u001b[2K\u001b[25A\u001b[2K\u001b[25A\u001b[2K\u001b[25A\u001b[2K\u001b[25A\u001b[2K\u001b[25A\u001b[2K\u001b[25A\u001b[2K\u001b[25A\u001b[2K\u001b[25A\u001b[2K\u001b[25A\u001b[2K\u001b[25A\u001b[2K\u001b[25A\u001b[2K\u001b[25A\u001b[2K\u001b[25A\u001b[2K\u001b[25A\u001b[2K\u001b[25A\u001b[2K\u001b[25A\u001b[2K\u001b[25A\u001b[2K\u001b[25A\u001b[2K\u001b[25A\u001b[2K\u001b[25A\u001b[2K\u001b[25A\u001b[2K\u001b[25A\u001b[2K\u001b[25A\u001b[2K\u001b[25A\u001b[2K\u001b[25A\u001b[2K\u001b[25A\u001b[2K\u001b[25A\u001b[2K\u001b[25A\u001b[2K\u001b[25A\u001b[2K\u001b[25A\u001b[2K\u001b[25A\u001b[2K\u001b[25A\u001b[2K\u001b[25A\u001b[2K\u001b[25A\u001b[2K\u001b[25A\u001b[2K\u001b[25A\u001b[2K\u001b[25A\u001b[2K\u001b[25A\u001b[2K\u001b[25A\u001b[2K\u001b[25A\u001b[2K\u001b[25A\u001b[2K\u001b[25A\u001b[2K\u001b[25A\u001b[2K\u001b[25A\u001b[2K\u001b[25A\u001b[2K\u001b[25A\u001b[2K\u001b[25A\u001b[2K\u001b[25A\u001b[2K\u001b[25A\u001b[2K\u001b[25A\u001b[2K\u001b[24A\u001b[2K\u001b[24A\u001b[2K\u001b[24A\u001b[2K\u001b[24A\u001b[2K\u001b[24A\u001b[2K\u001b[24A\u001b[2K\u001b[24A\u001b[2K\u001b[24A\u001b[2K\u001b[24A\u001b[2K\u001b[24A\u001b[2K\u001b[24A\u001b[2K\u001b[24A\u001b[2K\u001b[24A\u001b[2K\u001b[24A\u001b[2K\u001b[24A\u001b[2K\u001b[24A\u001b[2K\u001b[24A\u001b[2K\u001b[24A\u001b[2K\u001b[24A\u001b[2K\u001b[24A\u001b[2K\u001b[24A\u001b[2K\u001b[24A\u001b[2K\u001b[24A\u001b[2K\u001b[24A\u001b[2K\u001b[24A\u001b[2K\u001b[24A\u001b[2K\u001b[24A\u001b[2K\u001b[24A\u001b[2K\u001b[24A\u001b[2K\u001b[24A\u001b[2K\u001b[24A\u001b[2K\u001b[24A\u001b[2K\u001b[24A\u001b[2K\u001b[24A\u001b[2K\u001b[24A\u001b[2K\u001b[24A\u001b[2K\u001b[23A\u001b[2K\u001b[23A\u001b[2K\u001b[23A\u001b[2K\u001b[23A\u001b[2K\u001b[23A\u001b[2K\u001b[23A\u001b[2K\u001b[23A\u001b[2K\u001b[23A\u001b[2K\u001b[23A\u001b[2K\u001b[23A\u001b[2K\u001b[23A\u001b[2K\u001b[23A\u001b[2K\u001b[23A\u001b[2K\u001b[23A\u001b[2K\u001b[23A\u001b[2K\u001b[23A\u001b[2K\u001b[23A\u001b[2K\u001b[23A\u001b[2K\u001b[23A\u001b[2K\u001b[23A\u001b[2K\u001b[22A\u001b[2K\u001b[22A\u001b[2K\u001b[22A\u001b[2K\u001b[22A\u001b[2K\u001b[21A\u001b[2K\u001b[21A\u001b[2K\u001b[21A\u001b[2K\u001b[21A\u001b[2K\u001b[21A\u001b[2K\u001b[21A\u001b[2K\u001b[21A\u001b[2K\u001b[21A\u001b[2K\u001b[21A\u001b[2K\u001b[21A\u001b[2K\u001b[21A\u001b[2K\u001b[21A\u001b[2K\u001b[21A\u001b[2K\u001b[21A\u001b[2K\u001b[21A\u001b[2K\u001b[21A\u001b[2K\u001b[21A\u001b[2K\u001b[21A\u001b[2K\u001b[21A\u001b[2K\u001b[21A\u001b[2K\u001b[21A\u001b[2K\u001b[21A\u001b[2K\u001b[21A\u001b[2K\u001b[21A\u001b[2K\u001b[21A\u001b[2K\u001b[21A\u001b[2K\u001b[21A\u001b[2K\u001b[21A\u001b[2K\u001b[21A\u001b[2K\u001b[21A\u001b[2K\u001b[21A\u001b[2K\u001b[21A\u001b[2K\u001b[21A\u001b[2K\u001b[21A\u001b[2K\u001b[21A\u001b[2K\u001b[21A\u001b[2K\u001b[21A\u001b[2K\u001b[21A\u001b[2K\u001b[21A\u001b[2K\u001b[21A\u001b[2K\u001b[21A\u001b[2K\u001b[21A\u001b[2K\u001b[21A\u001b[2K\u001b[21A\u001b[2K\u001b[21A\u001b[2K\u001b[21A\u001b[2K\u001b[21A\u001b[2K\u001b[21A\u001b[2K\u001b[21A\u001b[2K\u001b[21A\u001b[2K\u001b[21A\u001b[2K\u001b[21A\u001b[2K\u001b[21A\u001b[2K\u001b[21A\u001b[2K\u001b[21A\u001b[2K\u001b[21A\u001b[2K\u001b[21A\u001b[2K\u001b[21A\u001b[2K\u001b[21A\u001b[2K\u001b[21A\u001b[2K\u001b[21A\u001b[2K\u001b[21A\u001b[2K\u001b[21A\u001b[2K\u001b[21A\u001b[2K\u001b[21A\u001b[2KExtracting  384.9MB/538MB\u001b[21A\u001b[2K\u001b[21A\u001b[2K\u001b[21A\u001b[2K\u001b[21A\u001b[2K\u001b[21A\u001b[2K\u001b[21A\u001b[2K\u001b[21A\u001b[2K\u001b[21A\u001b[2K\u001b[21A\u001b[2K\u001b[21A\u001b[2K\u001b[21A\u001b[2K\u001b[21A\u001b[2K\u001b[21A\u001b[2K\u001b[21A\u001b[2K\u001b[21A\u001b[2K\u001b[21A\u001b[2K\u001b[21A\u001b[2K\u001b[21A\u001b[2K\u001b[21A\u001b[2K\u001b[21A\u001b[2K\u001b[21A\u001b[2K\u001b[21A\u001b[2K\u001b[21A\u001b[2K\u001b[21A\u001b[2K\u001b[21A\u001b[2K\u001b[21A\u001b[2K\u001b[21A\u001b[2K\u001b[21A\u001b[2K\u001b[21A\u001b[2K\u001b[21A\u001b[2K\u001b[21A\u001b[2K\u001b[21A\u001b[2K\u001b[21A\u001b[2K\u001b[21A\u001b[2K\u001b[21A\u001b[2K\u001b[21A\u001b[2K\u001b[20A\u001b[2K\u001b[20A\u001b[2K\u001b[19A\u001b[2K\u001b[19A\u001b[2K\u001b[19A\u001b[2K\u001b[19A\u001b[2K\u001b[19A\u001b[2K\u001b[19A\u001b[2K\u001b[19A\u001b[2K\u001b[19A\u001b[2K\u001b[19A\u001b[2K\u001b[19A\u001b[2K\u001b[19A\u001b[2K\u001b[19A\u001b[2K\u001b[19A\u001b[2K\u001b[19A\u001b[2K\u001b[19A\u001b[2K\u001b[19A\u001b[2K\u001b[19A\u001b[2K\u001b[19A\u001b[2K\u001b[19A\u001b[2K\u001b[19A\u001b[2K\u001b[19A\u001b[2K\u001b[19A\u001b[2K\u001b[19A\u001b[2K\u001b[19A\u001b[2K\u001b[19A\u001b[2K\u001b[19A\u001b[2K\u001b[19A\u001b[2K\u001b[19A\u001b[2K\u001b[19A\u001b[2K\u001b[19A\u001b[2K\u001b[19A\u001b[2K\u001b[19A\u001b[2K\u001b[19A\u001b[2K\u001b[19A\u001b[2K\u001b[19A\u001b[2K"
     ]
    }
   ],
   "source": [
    "%%time\n",
    "! chmod +x build_and_push.sh; bash build_and_push.sh {region} {image} {tag}"
   ]
  },
  {
   "cell_type": "code",
   "execution_count": null,
   "id": "c81cdd40",
   "metadata": {},
   "outputs": [],
   "source": [
    "import os\n",
    "from sagemaker.pytorch import PyTorch\n",
    "from sagemaker.local import LocalSession\n",
    "\n",
    "client = boto3.client(\"sts\")\n",
    "account = client.get_caller_identity()[\"Account\"]\n",
    "\n",
    "instance_type = \"ml.p3.16xlarge\"  # Other supported instance type: ml.p3.16xlarge, ml.p4d.24xlarge\n",
    "instance_count = 1  # You can use 2, 4, 8 etc.\n",
    "docker_image = f\"{account}.dkr.ecr.{region}.amazonaws.com/{image}:{tag}\"  # YOUR_ECR_IMAGE_BUILT_WITH_ABOVE_DOCKER_FILE\n",
    "job_name = \"pytorch-sm-yolo-ddp14\"\n",
    "\n",
    "# SageMakerの操作で使用するローカル用セッション\n",
    "local_session = LocalSession()"
   ]
  },
  {
   "cell_type": "code",
   "execution_count": null,
   "id": "640e462e",
   "metadata": {},
   "outputs": [],
   "source": [
    "docker_image"
   ]
  },
  {
   "cell_type": "code",
   "execution_count": null,
   "id": "a6f84b9f",
   "metadata": {},
   "outputs": [],
   "source": [
    "estimator = PyTorch(\n",
    "    entry_point=\"train.py\",\n",
    "    role=role,\n",
    "    volume_size=700,\n",
    "    source_dir=\".\",\n",
    "    image_uri=docker_image,\n",
    "    instance_count=instance_count,\n",
    "    instance_type=instance_type,\n",
    "    framework_version=\"1.8.1\",\n",
    "    sagemaker_session=sagemaker_session,\n",
    "    distribution={\"smdistributed\": {\"dataparallel\": {\"enabled\": True}}},\n",
    "    debugger_hook_config=False\n",
    ")"
   ]
  },
  {
   "cell_type": "code",
   "execution_count": null,
   "id": "d3595faf",
   "metadata": {},
   "outputs": [],
   "source": [
    "data_uri = \"s3://sagemaker-us-east-1-815969174475/coco/\"\n",
    "#data_uri = \"s3://sagemaker-us-east-1-815969174475/sagemaker-handson-kazusa/\"\n",
    "\n",
    "data_channels = {\"data\": data_uri}\n",
    "\n",
    "estimator.fit(inputs=data_channels, job_name=job_name, wait=False)"
   ]
  },
  {
   "cell_type": "code",
   "execution_count": null,
   "id": "13272561",
   "metadata": {},
   "outputs": [],
   "source": []
  }
 ],
 "metadata": {
  "kernelspec": {
   "display_name": "conda_pytorch_p36",
   "language": "python",
   "name": "conda_pytorch_p36"
  },
  "language_info": {
   "codemirror_mode": {
    "name": "ipython",
    "version": 3
   },
   "file_extension": ".py",
   "mimetype": "text/x-python",
   "name": "python",
   "nbconvert_exporter": "python",
   "pygments_lexer": "ipython3",
   "version": "3.6.13"
  }
 },
 "nbformat": 4,
 "nbformat_minor": 5
}
